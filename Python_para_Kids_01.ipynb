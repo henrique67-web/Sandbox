{
  "nbformat": 4,
  "nbformat_minor": 0,
  "metadata": {
    "colab": {
      "name": "Python para Kids - 01.ipynb",
      "provenance": [],
      "collapsed_sections": [],
      "include_colab_link": true
    },
    "kernelspec": {
      "name": "python3",
      "display_name": "Python 3"
    }
  },
  "cells": [
    {
      "cell_type": "markdown",
      "metadata": {
        "id": "view-in-github",
        "colab_type": "text"
      },
      "source": [
        "<a href=\"https://colab.research.google.com/github/henrique67-web/Sandbox/blob/master/Python_para_Kids_01.ipynb\" target=\"_parent\"><img src=\"https://colab.research.google.com/assets/colab-badge.svg\" alt=\"Open In Colab\"/></a>"
      ]
    },
    {
      "cell_type": "markdown",
      "metadata": {
        "id": "UU23ZbdrKrtL",
        "colab_type": "text"
      },
      "source": [
        "# Começando com Python\n",
        "\n",
        "Se você chegou aqui, já sabe que o Google Colab é um ambiente de desenvolvimento em Python da Google, de forma que você precisa apenas estar conectado à Internet e ter uma conta gmail para usá-lo, ou seja, não precisamos instalar nada no nosso computador.\n",
        "\n",
        "Mais tarde iremos instalar sim o Python no nosso computador, mas para começarmos logo nosso aprendizado vamos trabalhar os primeiros passos por aqui mesmo.\n",
        "\n",
        "Vamos aprender um 'Basicão\" de Python e depois construirmos um jogo no estilo Space Invader.\n",
        "\n",
        "Nesse primeiro módulo vamos ver:\n",
        "\n",
        "1) O programa 'Alo Mundo';\n",
        "\n",
        "2) O Python como calculadora;\n",
        "\n",
        "3) Variáveis e Tipos de Dados (Types);\n",
        "\n",
        "4) Operadores básicos;\n",
        "\n",
        "5) Desvios no programa;\n",
        "\n",
        "\n",
        "\n",
        "\n",
        "\n",
        "## 1) O primeiro programa: 'Alo Mundo'\n",
        "Veja o comando abaixo (clique no botão à esquerda para executar):"
      ]
    },
    {
      "cell_type": "code",
      "metadata": {
        "id": "vGNBSE76Kk3X",
        "colab_type": "code",
        "colab": {
          "base_uri": "https://localhost:8080/",
          "height": 34
        },
        "outputId": "a3021bab-63e9-440c-a37d-044de055516f"
      },
      "source": [
        "print(\"Alo Mundo, ou 'Hello World' em inglês\")"
      ],
      "execution_count": null,
      "outputs": [
        {
          "output_type": "stream",
          "text": [
            "Alo Mundo, ou 'Hello World' em inglês\n"
          ],
          "name": "stdout"
        }
      ]
    },
    {
      "cell_type": "markdown",
      "metadata": {
        "id": "IzMbI4TsMRqI",
        "colab_type": "text"
      },
      "source": [
        "Esse é o primeiro programa de computador que os iniciantes aprendem. Ele é o primeiro exemplo que todos aprendem, seja em JAVA, C#, Python ou qualquer outra linguagem.\n",
        "\n",
        "O que tem de legal nesse programa?\n",
        "\n",
        "1) Apenas usamos uma instrução chamada \"print\" para exibir na tela uma mensagem, que foi passada entre os parenteses. Você pode mudar o texto entre os parênteses e ver o resultado, por exemplo:"
      ]
    },
    {
      "cell_type": "code",
      "metadata": {
        "id": "OL13AM6zMSmH",
        "colab_type": "code",
        "colab": {
          "base_uri": "https://localhost:8080/",
          "height": 34
        },
        "outputId": "c2e5be5e-6857-4063-f21c-93b93caf87c2"
      },
      "source": [
        "print(\"Alo Mundo. Ainda não estou convencido que Python é legal\")"
      ],
      "execution_count": null,
      "outputs": [
        {
          "output_type": "stream",
          "text": [
            "Alo Mundo. Ainda não estou convencido que Python é legal\n"
          ],
          "name": "stdout"
        }
      ]
    },
    {
      "cell_type": "markdown",
      "metadata": {
        "id": "Kx0ioalRNkMg",
        "colab_type": "text"
      },
      "source": [
        "Viu a mudança? Na verdade você poderia ter feito isso diretamente no primeiro comando, mas fiz uma cópia apenas para ficar mais didático. \n",
        "\n",
        "Agora vamos tentar fazer o programa responder à uma interação com o usuário, ou seja, você. Ele irá perguntar o seu nome:\n"
      ]
    },
    {
      "cell_type": "code",
      "metadata": {
        "id": "0de0RLBiOBzf",
        "colab_type": "code",
        "colab": {
          "base_uri": "https://localhost:8080/",
          "height": 68
        },
        "outputId": "001c776b-2e3c-49f4-c025-48f10dbe4962"
      },
      "source": [
        "print(\"Alo Mundo. Eu sou o Python. Qual é o seu nome?\")\n",
        "v_nome = input(\"Entre com o seu nome: \")\n",
        "print(\"Bom dia, \" + v_nome)"
      ],
      "execution_count": null,
      "outputs": [
        {
          "output_type": "stream",
          "text": [
            "Alo Mundo. Eu sou o Python. Qual é o seu nome?\n",
            "Entre com o seu nome: Henrique\n",
            "Bom dia, Henrique\n"
          ],
          "name": "stdout"
        }
      ]
    },
    {
      "cell_type": "markdown",
      "metadata": {
        "id": "JcrtCR2GOZ2z",
        "colab_type": "text"
      },
      "source": [
        "Parabéns!!! Montamos o primeiro programa que faz algo menos inútil que imprimir 'Alo Mundo' na tela.\n",
        "\n",
        "Mas para fazermos algo mais interessante precisamos aprender alguns conceitos básicos. Vamos lá...\n",
        "\n",
        "## Indentação do código\n",
        "Diferente de outras linguagens, o Python usa a indentação para marcar os blocos de código. Por padrão, são 4 espaços para marcar um bloco. Veja a seguir:"
      ]
    },
    {
      "cell_type": "code",
      "metadata": {
        "id": "OOoUfVbM_anA",
        "colab_type": "code",
        "colab": {
          "base_uri": "https://localhost:8080/",
          "height": 34
        },
        "outputId": "89db4b77-d942-49f0-fc37-e853a89ed0cf"
      },
      "source": [
        "x = 1\n",
        "if x == 1:\n",
        "    # indentação de 4 espaços\n",
        "    print(\"x is 1.\")"
      ],
      "execution_count": null,
      "outputs": [
        {
          "output_type": "stream",
          "text": [
            "x is 1.\n"
          ],
          "name": "stdout"
        }
      ]
    },
    {
      "cell_type": "markdown",
      "metadata": {
        "id": "Ai2w9aVW_s_u",
        "colab_type": "text"
      },
      "source": [
        "Daqui a pouco vamos estudar o código acima com mais calma."
      ]
    },
    {
      "cell_type": "markdown",
      "metadata": {
        "id": "Fd_E1Fd9O5PN",
        "colab_type": "text"
      },
      "source": [
        "## 2) O Python como calculadora\n",
        "Podemos usar o console do Python, esse do Google por exemplo, como uma calculadora. Veja os exemplos abaixo:"
      ]
    },
    {
      "cell_type": "code",
      "metadata": {
        "id": "5XcNA0qWO_2_",
        "colab_type": "code",
        "colab": {
          "base_uri": "https://localhost:8080/",
          "height": 34
        },
        "outputId": "6b53a5c4-df13-4298-c5d0-98b9ff7b191c"
      },
      "source": [
        "3 + 4"
      ],
      "execution_count": null,
      "outputs": [
        {
          "output_type": "execute_result",
          "data": {
            "text/plain": [
              "7"
            ]
          },
          "metadata": {
            "tags": []
          },
          "execution_count": 9
        }
      ]
    },
    {
      "cell_type": "code",
      "metadata": {
        "id": "o5VKhZclPQRU",
        "colab_type": "code",
        "colab": {
          "base_uri": "https://localhost:8080/",
          "height": 34
        },
        "outputId": "56896ac9-5ac0-4b80-991c-7285698491ae"
      },
      "source": [
        "3 + 4 * ( 4 - 1)"
      ],
      "execution_count": null,
      "outputs": [
        {
          "output_type": "execute_result",
          "data": {
            "text/plain": [
              "15"
            ]
          },
          "metadata": {
            "tags": []
          },
          "execution_count": 7
        }
      ]
    },
    {
      "cell_type": "code",
      "metadata": {
        "id": "b99ZVVtSPZf8",
        "colab_type": "code",
        "colab": {
          "base_uri": "https://localhost:8080/",
          "height": 34
        },
        "outputId": "4185667d-7e27-45f7-f591-bafadd5f5e8f"
      },
      "source": [
        "( 3 + 4 * ( 4 - 1) ) * 2"
      ],
      "execution_count": null,
      "outputs": [
        {
          "output_type": "execute_result",
          "data": {
            "text/plain": [
              "30"
            ]
          },
          "metadata": {
            "tags": []
          },
          "execution_count": 8
        }
      ]
    },
    {
      "cell_type": "markdown",
      "metadata": {
        "id": "6-fOkzAfPn58",
        "colab_type": "text"
      },
      "source": [
        "Lembra da aulas de matemática da Tia Titica no colégio? E das ordens dos operadores: * e / primeiro, depois + e -, da esquerda para direita, o que estiver entre parênteses primeiro? Pois é... o Python foi a essa aula e obedece estas regras."
      ]
    },
    {
      "cell_type": "markdown",
      "metadata": {
        "id": "uF-pTLx4QFqQ",
        "colab_type": "text"
      },
      "source": [
        "## 3) Variáveis\n",
        "\n",
        "Uma variável é um espaço dentro da memória do computador onde podemos armazenar valores diferentes durante a execução do programa. Por exemplo"
      ]
    },
    {
      "cell_type": "code",
      "metadata": {
        "id": "foIwqXv-SRGm",
        "colab_type": "code",
        "colab": {
          "base_uri": "https://localhost:8080/",
          "height": 50
        },
        "outputId": "e468b004-3240-4e25-8c95-8060cb678a1f"
      },
      "source": [
        "# Criando duas variáveis x e y, com os valores a seguir:\n",
        "x = 10\n",
        "y = 10    # Depois troque esse valor de 5 para 10\n",
        "print(x)\n",
        "print(y)"
      ],
      "execution_count": null,
      "outputs": [
        {
          "output_type": "stream",
          "text": [
            "10\n",
            "10\n"
          ],
          "name": "stdout"
        }
      ]
    },
    {
      "cell_type": "markdown",
      "metadata": {
        "id": "XeeaFumeSmZu",
        "colab_type": "text"
      },
      "source": [
        "Veja que o conteudo de x e y nos comandos \"print\" realmente foram os que colocamos.\n",
        "Podemos usar as variáveis dentro dos programas, como a seguir:"
      ]
    },
    {
      "cell_type": "code",
      "metadata": {
        "id": "tII9jVHKRbn3",
        "colab_type": "code",
        "colab": {
          "base_uri": "https://localhost:8080/",
          "height": 34
        },
        "outputId": "80d072f7-0bd3-4ecf-90b7-17fb70aa64a8"
      },
      "source": [
        "z = x + y\n",
        "print(z)"
      ],
      "execution_count": null,
      "outputs": [
        {
          "output_type": "stream",
          "text": [
            "20\n"
          ],
          "name": "stdout"
        }
      ]
    },
    {
      "cell_type": "markdown",
      "metadata": {
        "id": "Nbk32lXfS_JP",
        "colab_type": "text"
      },
      "source": [
        "Volta na definição das variáveis e troque o valor de y para 10, por exemplo, e execute novamente a soma em \"z\" acima.\n",
        "\n",
        "## Números\n",
        "O Python suporta 2 tipos de números: Inteiros (integer) e Reais (Floating Points, ou ponto flutuante).\n",
        "\n",
        "Para definirmos um inteiro:"
      ]
    },
    {
      "cell_type": "code",
      "metadata": {
        "id": "9fAOds_jAm_N",
        "colab_type": "code",
        "colab": {
          "base_uri": "https://localhost:8080/",
          "height": 51
        },
        "outputId": "ba04dfcd-c69d-4258-8d72-c0ad37f8b3b6"
      },
      "source": [
        "meuInteiro = 4\n",
        "print(meuInteiro)\n",
        "type(meuInteiro)"
      ],
      "execution_count": null,
      "outputs": [
        {
          "output_type": "stream",
          "text": [
            "4\n"
          ],
          "name": "stdout"
        },
        {
          "output_type": "execute_result",
          "data": {
            "text/plain": [
              "int"
            ]
          },
          "metadata": {
            "tags": []
          },
          "execution_count": 5
        }
      ]
    },
    {
      "cell_type": "code",
      "metadata": {
        "id": "Or5GMfGBV59h",
        "colab_type": "code",
        "colab": {
          "base_uri": "https://localhost:8080/",
          "height": 67
        },
        "outputId": "f8bd175d-3667-4639-d32f-422939b53076"
      },
      "source": [
        "# imprimindo diretamente um numero inteiro qualquer\n",
        "print(10304054052032342)\n",
        "\n",
        "# criando uma variável com um valor inteiro\n",
        "x = 20\n",
        "print(x)\n",
        "print( x + 4 ) # somando 4 ao valor da variável e imprimindo o resultado"
      ],
      "execution_count": null,
      "outputs": [
        {
          "output_type": "stream",
          "text": [
            "10304054052032342\n",
            "20\n",
            "24\n"
          ],
          "name": "stdout"
        }
      ]
    },
    {
      "cell_type": "markdown",
      "metadata": {
        "id": "dpZVucRnAu2I",
        "colab_type": "text"
      },
      "source": [
        "Para definirmos um Float:"
      ]
    },
    {
      "cell_type": "code",
      "metadata": {
        "id": "W_wTEexJAyZR",
        "colab_type": "code",
        "colab": {
          "base_uri": "https://localhost:8080/",
          "height": 51
        },
        "outputId": "8dd547a5-9a87-4940-bc36-d9f5a8cd093a"
      },
      "source": [
        "meuFloat = 7.0\n",
        "print(meuFloat)\n",
        "type(meuFloat)\n"
      ],
      "execution_count": null,
      "outputs": [
        {
          "output_type": "stream",
          "text": [
            "7.0\n"
          ],
          "name": "stdout"
        },
        {
          "output_type": "execute_result",
          "data": {
            "text/plain": [
              "float"
            ]
          },
          "metadata": {
            "tags": []
          },
          "execution_count": 6
        }
      ]
    },
    {
      "cell_type": "code",
      "metadata": {
        "id": "Ze_cd8SjWkB6",
        "colab_type": "code",
        "colab": {
          "base_uri": "https://localhost:8080/",
          "height": 50
        },
        "outputId": "8ebdf2a1-53e6-470b-842d-027aa74f467c"
      },
      "source": [
        "x = 4.3\n",
        "print(x)\n",
        "print( x * 2 )"
      ],
      "execution_count": null,
      "outputs": [
        {
          "output_type": "stream",
          "text": [
            "4.3\n",
            "8.6\n"
          ],
          "name": "stdout"
        }
      ]
    },
    {
      "cell_type": "markdown",
      "metadata": {
        "id": "HybOupAoWzOQ",
        "colab_type": "text"
      },
      "source": [
        "\n",
        "\n",
        "## String (Textos)\n"
      ]
    },
    {
      "cell_type": "code",
      "metadata": {
        "id": "_q-PBZPxW3Mo",
        "colab_type": "code",
        "colab": {
          "base_uri": "https://localhost:8080/",
          "height": 68
        },
        "outputId": "b45fc015-da7b-401d-9cd2-c346c8400c15"
      },
      "source": [
        "x = \"John Wick\"\n",
        "print(x)\n",
        "print(x + \" é foda!\")  # 2 strings concatenadas\n",
        "type(x)"
      ],
      "execution_count": null,
      "outputs": [
        {
          "output_type": "stream",
          "text": [
            "John Wick\n",
            "John Wick é foda!\n"
          ],
          "name": "stdout"
        },
        {
          "output_type": "execute_result",
          "data": {
            "text/plain": [
              "str"
            ]
          },
          "metadata": {
            "tags": []
          },
          "execution_count": 7
        }
      ]
    },
    {
      "cell_type": "code",
      "metadata": {
        "id": "gMSPXi_8CWgU",
        "colab_type": "code",
        "colab": {
          "base_uri": "https://localhost:8080/",
          "height": 51
        },
        "outputId": "15950dad-52e0-48fd-c81c-eeca1d22fce2"
      },
      "source": [
        "# Isso aqui é a soma de 2 inteiros\n",
        "one = 1\n",
        "two = 2\n",
        "three = one + two\n",
        "print(three)\n",
        "\n",
        "# Isso aqui é a concatenação de 2 variáveis string, com um espaço no meio\n",
        "hello = \"hello\"\n",
        "world = \"world\"\n",
        "helloworld = hello + \" \" + world\n",
        "print(helloworld)"
      ],
      "execution_count": null,
      "outputs": [
        {
          "output_type": "stream",
          "text": [
            "3\n",
            "hello world\n"
          ],
          "name": "stdout"
        }
      ]
    },
    {
      "cell_type": "markdown",
      "metadata": {
        "id": "nDu4UnBGXC7I",
        "colab_type": "text"
      },
      "source": [
        "A operação feita pelo \"+\" em strings não é chamada de soma, mas sim de CONCATENAÇÃO. Dizemos que estamos concatenando duas strings para formar uma só."
      ]
    },
    {
      "cell_type": "markdown",
      "metadata": {
        "id": "yhLGz-PEXZP5",
        "colab_type": "text"
      },
      "source": [
        "### Boolean (Boleano)\n",
        "\n",
        "Basicamente é dizer sim ou não, ou melhor: \"True\" ou \"False\""
      ]
    },
    {
      "cell_type": "code",
      "metadata": {
        "id": "3MaP-fayXknz",
        "colab_type": "code",
        "colab": {
          "base_uri": "https://localhost:8080/",
          "height": 51
        },
        "outputId": "71c25f98-2099-4b54-9fa5-3e1230a2fe5c"
      },
      "source": [
        "x = True\n",
        "y = False\n",
        "print(x)\n",
        "print(y)"
      ],
      "execution_count": null,
      "outputs": [
        {
          "output_type": "stream",
          "text": [
            "True\n",
            "False\n"
          ],
          "name": "stdout"
        }
      ]
    },
    {
      "cell_type": "markdown",
      "metadata": {
        "id": "cQD7unsxXshT",
        "colab_type": "text"
      },
      "source": [
        "Dá para saber que tipo a variável tem da seguinte forma:\n",
        "\n"
      ]
    },
    {
      "cell_type": "code",
      "metadata": {
        "id": "ftgJJxxIX1tR",
        "colab_type": "code",
        "colab": {
          "base_uri": "https://localhost:8080/",
          "height": 34
        },
        "outputId": "aecf7756-f67d-48a6-9741-e6d450be0124"
      },
      "source": [
        "# Já vimos isso antes: usando a função 'type' podemos descobrir o tipo que a variável contém:\n",
        "x = True\n",
        "type(x)"
      ],
      "execution_count": null,
      "outputs": [
        {
          "output_type": "execute_result",
          "data": {
            "text/plain": [
              "bool"
            ]
          },
          "metadata": {
            "tags": []
          },
          "execution_count": 10
        }
      ]
    },
    {
      "cell_type": "code",
      "metadata": {
        "id": "jPqq_bW7X_Bs",
        "colab_type": "code",
        "colab": {
          "base_uri": "https://localhost:8080/",
          "height": 34
        },
        "outputId": "194425e6-cb94-4847-e1a4-589f3afc48ab"
      },
      "source": [
        "y = \"Pokemon\"\n",
        "type(y)"
      ],
      "execution_count": null,
      "outputs": [
        {
          "output_type": "execute_result",
          "data": {
            "text/plain": [
              "str"
            ]
          },
          "metadata": {
            "tags": []
          },
          "execution_count": 11
        }
      ]
    },
    {
      "cell_type": "code",
      "metadata": {
        "id": "1diGwy1rYC6a",
        "colab_type": "code",
        "colab": {
          "base_uri": "https://localhost:8080/",
          "height": 34
        },
        "outputId": "cdb96ad1-196e-45e6-e342-8e1374e58f08"
      },
      "source": [
        "z = 4.2\n",
        "type(z)"
      ],
      "execution_count": null,
      "outputs": [
        {
          "output_type": "execute_result",
          "data": {
            "text/plain": [
              "float"
            ]
          },
          "metadata": {
            "tags": []
          },
          "execution_count": 25
        }
      ]
    },
    {
      "cell_type": "code",
      "metadata": {
        "id": "IH-CMuGvYHLU",
        "colab_type": "code",
        "colab": {
          "base_uri": "https://localhost:8080/",
          "height": 34
        },
        "outputId": "81936ae2-7f51-47e1-e4b0-f2a19de08935"
      },
      "source": [
        "w = 10\n",
        "type(w)"
      ],
      "execution_count": null,
      "outputs": [
        {
          "output_type": "execute_result",
          "data": {
            "text/plain": [
              "int"
            ]
          },
          "metadata": {
            "tags": []
          },
          "execution_count": 26
        }
      ]
    },
    {
      "cell_type": "markdown",
      "metadata": {
        "id": "_adqZIVh5KC5",
        "colab_type": "text"
      },
      "source": [
        "### Datas e Horas\n",
        "\n",
        "Para trabalhar com datas e horas precisamos importar uma \"biblioteca\" específica para isso, chamada \"datetime\".\n",
        "Vamos ver o exemplo abaixo:"
      ]
    },
    {
      "cell_type": "code",
      "metadata": {
        "id": "Qws7JTZZ5h7R",
        "colab_type": "code",
        "colab": {
          "base_uri": "https://localhost:8080/",
          "height": 50
        },
        "outputId": "bb425781-fdf3-47b4-d36d-0f56e1facd74"
      },
      "source": [
        "# Testando datas e horas\n",
        "from datetime import date   # aqui importamos o tipos 'date' da biblioteca 'datetime'\n",
        "\n",
        "data_atual = date.today() # A função today pega apenas o dia atual.\n",
        "print(data_atual)"
      ],
      "execution_count": null,
      "outputs": [
        {
          "output_type": "stream",
          "text": [
            "2019-12-04\n",
            "04/12/2019 00:00\n"
          ],
          "name": "stdout"
        }
      ]
    },
    {
      "cell_type": "code",
      "metadata": {
        "id": "lrXDzDSXDu25",
        "colab_type": "code",
        "colab": {}
      },
      "source": [
        ""
      ],
      "execution_count": null,
      "outputs": []
    },
    {
      "cell_type": "markdown",
      "metadata": {
        "id": "5UsjI_Sl6N_Y",
        "colab_type": "text"
      },
      "source": [
        "Mas o formato da data não saiu como gostaríamos. Seria melhor exibir a data no formato DD/MM/YYYY.\n",
        "Para isso usamos uma função de formatação de datas. Vamos ver:\n"
      ]
    },
    {
      "cell_type": "code",
      "metadata": {
        "id": "yX0sY_5J6l5Z",
        "colab_type": "code",
        "colab": {
          "base_uri": "https://localhost:8080/",
          "height": 50
        },
        "outputId": "e9a346fb-95cb-406c-a175-5ddd6aab1807"
      },
      "source": [
        "data_em_texto = data_atual.strftime('%d/%m/%Y')\n",
        "print(data_em_texto)\n",
        "\n",
        "hora_em_texto = data_atual.strftime('%d/%m/%Y %H:%M') # como usamos a função today(), não temos a parcela da hora.\n",
        "print(hora_em_texto)"
      ],
      "execution_count": null,
      "outputs": [
        {
          "output_type": "stream",
          "text": [
            "04/12/2019\n",
            "04/12/2019 00:00\n"
          ],
          "name": "stdout"
        }
      ]
    },
    {
      "cell_type": "markdown",
      "metadata": {
        "id": "zCGjaa-F6yvg",
        "colab_type": "text"
      },
      "source": [
        "Bem melhor, certo?\n",
        "\n",
        "Mas é quanto à hora do dia? Para termos também a hora, podemos usar a função 'now()' no lugar de 'today()':"
      ]
    },
    {
      "cell_type": "code",
      "metadata": {
        "id": "FsYK9hfH_V3B",
        "colab_type": "code",
        "colab": {
          "base_uri": "https://localhost:8080/",
          "height": 67
        },
        "outputId": "73689287-37e1-4ce0-ea5c-a65bc6ad9a19"
      },
      "source": [
        "data_hora_atual = datetime.now()\n",
        "print(data_hora_atual)   # isso aqui vai sair esquisito\n",
        "hora_em_texto = data_hora_atual.strftime('%d/%m/%Y %H:%M') # aqui estamos formatando a data  e hora\n",
        "print(hora_em_texto)\n",
        "\n",
        "hora_em_texto = data_hora_atual.strftime('%H:%M') # aqui estamos formatando apenas a hora\n",
        "print(hora_em_texto)"
      ],
      "execution_count": null,
      "outputs": [
        {
          "output_type": "stream",
          "text": [
            "2019-12-04 13:06:50.081858\n",
            "04/12/2019 13:06\n",
            "13:06\n"
          ],
          "name": "stdout"
        }
      ]
    },
    {
      "cell_type": "markdown",
      "metadata": {
        "id": "PmJu4bw1TX5U",
        "colab_type": "text"
      },
      "source": [
        "### O que aprendemos?\n",
        "- O console Python faz contas matemáticas\n",
        "- Podemos imprimir um texto, podemos perguntar uma informação ao usuário\n",
        "- Linhas iniciadas com \"#\" são \"comentários\" no programa, ou seja, servem apenas para informação e não são executadas.\n",
        "- Uma variável pode conter qualquer valor, e pode ser usada dentro de programas.\n",
        "\n",
        "Em um jogo, por exemplo, quando entramos com nosso login e senha, o jogo armazena estas informações em variáveis do programa e testa isso para ver se a pessoa pode der acesso ou não ao jogo."
      ]
    },
    {
      "cell_type": "markdown",
      "metadata": {
        "id": "50oIZwZXYPlm",
        "colab_type": "text"
      },
      "source": [
        "## 5) Desvios no programa (o programa decidindo algo)\n",
        "\n",
        "Vamos voltar no nosso programa 'Alo Mundo':\n",
        "\n",
        "\n",
        "\n"
      ]
    },
    {
      "cell_type": "code",
      "metadata": {
        "id": "3jv0Zqe97PQ7",
        "colab_type": "code",
        "colab": {
          "base_uri": "https://localhost:8080/",
          "height": 67
        },
        "outputId": "52e7d87c-f453-4dc6-987b-3d5045341a0f"
      },
      "source": [
        "print(\"Alo Mundo. Eu sou o Python. Qual é o seu nome?\")\n",
        "v_nome = input(\"Entre com o seu nome: \")\n",
        "print(\"Bom dia, \" + v_nome)"
      ],
      "execution_count": null,
      "outputs": [
        {
          "output_type": "stream",
          "text": [
            "Alo Mundo. Eu sou o Python. Qual é o seu nome?\n",
            "Entre com o seu nome: Henrique\n",
            "Bom dia, Henrique\n"
          ],
          "name": "stdout"
        }
      ]
    },
    {
      "cell_type": "markdown",
      "metadata": {
        "id": "tHbZ8IW47W_S",
        "colab_type": "text"
      },
      "source": [
        "Ele não faz nada além de perguntar o nome do usuário e imprimir uma saudação, ou seja, o caminho é reto, sem desvios ou condições.\n",
        "E se quisessemos que o programa verificasse o horário atual e, dependendo da hora, desse ou 'bom dia' ou 'boa noite'? Como farermos isso?\n",
        "\n",
        "Precisamos do que é chamado estruturas de controle de fluxo, ou de desvios. É na verdade uma, ou mais perguntas, que o programa faz para decidir se faz uma coisa ou outra. Vamos ver um exemplo:\n",
        "\n"
      ]
    },
    {
      "cell_type": "code",
      "metadata": {
        "id": "JewUn9HmDTEH",
        "colab_type": "code",
        "colab": {
          "base_uri": "https://localhost:8080/",
          "height": 34
        },
        "outputId": "b2939e02-eb33-45e4-9f63-607419117904"
      },
      "source": [
        "x = 6  # depois troque aqui para 4\n",
        "if x > 5:\n",
        "  print('x é maior que 5')"
      ],
      "execution_count": null,
      "outputs": [
        {
          "output_type": "stream",
          "text": [
            "x é maior que 5\n"
          ],
          "name": "stdout"
        }
      ]
    },
    {
      "cell_type": "markdown",
      "metadata": {
        "id": "7qP1t1RNDoh1",
        "colab_type": "text"
      },
      "source": [
        "Agora volte no código acima e troque o valor de x para 4. Rode novamente e verá que nada acontece.\n",
        "\n",
        "A sintaxe de um 'desvio' é a seguinte:\n",
        "\n",
        ">if expression: \n",
        ">>statement(s)   # Aqui é verdadeiro (True)\n",
        "\n",
        ">else:\n",
        ">>statement(s)   # Aqui é falso (False)\n",
        "\n",
        "Que pode ser representado pela figura abaixo:\n",
        "\n",
        "![alt text](https://www.tutorialspoint.com/python/images/decision_making.jpg)\n",
        "\n",
        "\n",
        "Podemos colocar uma outra condição, como:"
      ]
    },
    {
      "cell_type": "code",
      "metadata": {
        "id": "fse2QqTUECpa",
        "colab_type": "code",
        "colab": {
          "base_uri": "https://localhost:8080/",
          "height": 34
        },
        "outputId": "9e519bc8-6d3c-4f83-8d52-46643d1b471d"
      },
      "source": [
        "x = 6  # troque aqui para qualquer outro valor e veja como o desvio de comporta\n",
        "if x > 5:\n",
        "  print('x é maior que 5')\n",
        "else:\n",
        "  print('x é menor que 5')  "
      ],
      "execution_count": null,
      "outputs": [
        {
          "output_type": "stream",
          "text": [
            "x é maior que 5\n"
          ],
          "name": "stdout"
        }
      ]
    },
    {
      "cell_type": "markdown",
      "metadata": {
        "id": "j96nIwO9EY2n",
        "colab_type": "text"
      },
      "source": [
        "Esse tipo de controle começa com um teste onde o programa espera receber um resultado True (Verdadeiro) ou False (False). Então ele se pergunta: \n",
        "\n",
        "6 < 5?\n",
        "\n",
        "Isto é False. Sendo assim ele não executa o que está dentro do 'if' (se), mas sim o que está no 'else' (senão)."
      ]
    },
    {
      "cell_type": "markdown",
      "metadata": {
        "id": "fwQ8xk7qFdm3",
        "colab_type": "text"
      },
      "source": [
        "Vamos refazer o programa 'Alo Mundo'. Precisamos que o programa 'pense' da seguinte forma:\n",
        "\n",
        "1) Depois que o usuário entrar com o nome, o programa verifica a data atual (como fizemos acima);\n",
        "\n",
        "2) Se a data atual for <= do que 18:00, então ele vai dar bom dia.\n",
        "\n",
        "3) Se a data atual for > do que 18:00, ele vai dar boa noite.\n"
      ]
    },
    {
      "cell_type": "code",
      "metadata": {
        "id": "q-DqaB2N8qa7",
        "colab_type": "code",
        "colab": {
          "base_uri": "https://localhost:8080/",
          "height": 84
        },
        "outputId": "0f2683e0-1ffc-4c95-c6b9-225699dec860"
      },
      "source": [
        "from datetime import datetime \n",
        "\n",
        "print(\"Alo Mundo. Eu sou o Python. Qual é o seu nome?\")\n",
        "v_nome = input(\"Entre com o seu nome: \")   # até aqui, igual ao programa anterior\n",
        "\n",
        "data_hora_atual = datetime.now()\n",
        "hora_em_texto = data_hora_atual.strftime('%H:%M')\n",
        "print(hora_em_texto)\n",
        "\n",
        "if ( data_hora_atual.hour <= 18):\n",
        "  print(\"Bom dia, \" + v_nome)\n",
        "else:\n",
        "  print(\"Boa noite, \" + v_nome)\n"
      ],
      "execution_count": null,
      "outputs": [
        {
          "output_type": "stream",
          "text": [
            "Alo Mundo. Eu sou o Python. Qual é o seu nome?\n",
            "Entre com o seu nome: sdfsfsdf\n",
            "22:47\n",
            "Boa noite, sdfsfsdf\n"
          ],
          "name": "stdout"
        }
      ]
    },
    {
      "cell_type": "markdown",
      "metadata": {
        "id": "_Dd_JumhGLpr",
        "colab_type": "text"
      },
      "source": [
        "Se quiser testar outros valores para o 'if' sem precisar da hora do computador , datetime.now(), podemos fazer assim:"
      ]
    },
    {
      "cell_type": "code",
      "metadata": {
        "id": "EGIHd5KuGZ6T",
        "colab_type": "code",
        "colab": {
          "base_uri": "https://localhost:8080/",
          "height": 67
        },
        "outputId": "2b08f33b-d05b-4ae4-e8ff-6dafbd5d9874"
      },
      "source": [
        "from datetime import datetime # aqui estamos importanto todo a biblioteca datetime\n",
        "\n",
        "print(\"Alo Mundo. Eu sou o Python. Qual é o seu nome?\")\n",
        "v_nome = input(\"Entre com o seu nome: \")   # até aqui, igual ao programa anterior\n",
        "\n",
        "#data_hora_atual = datetime.now()\n",
        "data_hora_atual = 19  # coloque valores maiores ou menores que 18, e veja o resultado\n",
        "\n",
        "#hora_em_texto = data_hora_atual.strftime('%H:%M')\n",
        "#print(hora_em_texto)\n",
        "\n",
        "#if ( data_hora_atual.hour <= 18):\n",
        "if ( data_hora_atual <= 18 ): \n",
        "  print(\"Bom dia, \" + v_nome)\n",
        "else:\n",
        "  print(\"Boa noite, \" + v_nome)\n"
      ],
      "execution_count": null,
      "outputs": [
        {
          "output_type": "stream",
          "text": [
            "Alo Mundo. Eu sou o Python. Qual é o seu nome?\n",
            "Entre com o seu nome: gfgdf\n",
            "Boa noite, gfgdf\n"
          ],
          "name": "stdout"
        }
      ]
    },
    {
      "cell_type": "markdown",
      "metadata": {
        "id": "cx5d9HfjHMfY",
        "colab_type": "text"
      },
      "source": [
        "# Desafios\n",
        "\n"
      ]
    },
    {
      "cell_type": "markdown",
      "metadata": {
        "id": "qw5bCKvDHSnH",
        "colab_type": "text"
      },
      "source": [
        "## 1) Equação do segundo grau\n",
        "\n",
        "![alt text](https://matematicabasica.net/wp-content/uploads/2019/02/formula-de-bhaskara-x1.png)\n",
        "\n",
        "![alt text](https://matematicabasica.net/wp-content/uploads/2019/02/formula-de-bhaskara-x2.png)\n",
        "\n",
        "Monte um programa para calcular as raizes da equação:\n",
        "\n",
        "x² – 5x + 6 = 0"
      ]
    },
    {
      "cell_type": "code",
      "metadata": {
        "id": "vLM2YW_-H8-r",
        "colab_type": "code",
        "colab": {
          "base_uri": "https://localhost:8080/",
          "height": 67
        },
        "outputId": "e0bdbd11-11e4-4112-c302-34c1c854ff77"
      },
      "source": [
        "# variáveis:\n",
        "a = 1\n",
        "b = -5\n",
        "c = 6\n",
        "\n",
        "# estou apenas colocando um valor inicial em delta e x1 e x2.\n",
        "delta = 0\n",
        "x1 = 0\n",
        "x2 = 0\n",
        "\n",
        "# Ache delta: coloque seu código logo abaixo\n",
        "\n",
        "print('Delta = ' + str(delta)) # Como não podemos concatenar um texto(string) com numero, precisamos converter o numero para texto usando a função str() to Python.\n",
        "\n",
        "\n",
        "# Ache as raizes x1 e x2: coloque seu código logo abaixo\n",
        "\n",
        "print('x1 = ' + str(x1))\n",
        "print('x2 = ' + str(x2))\n"
      ],
      "execution_count": null,
      "outputs": [
        {
          "output_type": "stream",
          "text": [
            "Delta = 0\n",
            "x1 = 0\n",
            "x2 = 0\n"
          ],
          "name": "stdout"
        }
      ]
    }
  ]
}